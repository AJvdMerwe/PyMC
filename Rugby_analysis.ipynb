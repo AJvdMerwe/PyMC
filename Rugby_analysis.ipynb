{
 "cells": [
  {
   "cell_type": "code",
   "execution_count": 1,
   "metadata": {
    "collapsed": true
   },
   "outputs": [
    {
     "name": "stdout",
     "output_type": "stream",
     "text": [
      "Requirement already satisfied: seaborn in /home/arneau/anaconda3/envs/pymc_env/lib/python3.11/site-packages (0.12.2)\r\n",
      "Requirement already satisfied: numba in /home/arneau/anaconda3/envs/pymc_env/lib/python3.11/site-packages (0.57.1)\r\n",
      "Requirement already satisfied: numpy!=1.24.0,>=1.17 in /home/arneau/anaconda3/envs/pymc_env/lib/python3.11/site-packages (from seaborn) (1.24.4)\r\n",
      "Requirement already satisfied: pandas>=0.25 in /home/arneau/anaconda3/envs/pymc_env/lib/python3.11/site-packages (from seaborn) (2.0.3)\r\n",
      "Requirement already satisfied: matplotlib!=3.6.1,>=3.1 in /home/arneau/anaconda3/envs/pymc_env/lib/python3.11/site-packages (from seaborn) (3.7.2)\r\n",
      "Requirement already satisfied: llvmlite<0.41,>=0.40.0dev0 in /home/arneau/anaconda3/envs/pymc_env/lib/python3.11/site-packages (from numba) (0.40.1)\r\n",
      "Requirement already satisfied: contourpy>=1.0.1 in /home/arneau/anaconda3/envs/pymc_env/lib/python3.11/site-packages (from matplotlib!=3.6.1,>=3.1->seaborn) (1.1.0)\r\n",
      "Requirement already satisfied: cycler>=0.10 in /home/arneau/anaconda3/envs/pymc_env/lib/python3.11/site-packages (from matplotlib!=3.6.1,>=3.1->seaborn) (0.11.0)\r\n",
      "Requirement already satisfied: fonttools>=4.22.0 in /home/arneau/anaconda3/envs/pymc_env/lib/python3.11/site-packages (from matplotlib!=3.6.1,>=3.1->seaborn) (4.40.0)\r\n",
      "Requirement already satisfied: kiwisolver>=1.0.1 in /home/arneau/anaconda3/envs/pymc_env/lib/python3.11/site-packages (from matplotlib!=3.6.1,>=3.1->seaborn) (1.4.4)\r\n",
      "Requirement already satisfied: packaging>=20.0 in /home/arneau/anaconda3/envs/pymc_env/lib/python3.11/site-packages (from matplotlib!=3.6.1,>=3.1->seaborn) (23.1)\r\n",
      "Requirement already satisfied: pillow>=6.2.0 in /home/arneau/anaconda3/envs/pymc_env/lib/python3.11/site-packages (from matplotlib!=3.6.1,>=3.1->seaborn) (10.0.0)\r\n",
      "Requirement already satisfied: pyparsing<3.1,>=2.3.1 in /home/arneau/anaconda3/envs/pymc_env/lib/python3.11/site-packages (from matplotlib!=3.6.1,>=3.1->seaborn) (3.0.9)\r\n",
      "Requirement already satisfied: python-dateutil>=2.7 in /home/arneau/anaconda3/envs/pymc_env/lib/python3.11/site-packages (from matplotlib!=3.6.1,>=3.1->seaborn) (2.8.2)\r\n",
      "Requirement already satisfied: pytz>=2020.1 in /home/arneau/anaconda3/envs/pymc_env/lib/python3.11/site-packages (from pandas>=0.25->seaborn) (2023.3)\r\n",
      "Requirement already satisfied: tzdata>=2022.1 in /home/arneau/anaconda3/envs/pymc_env/lib/python3.11/site-packages (from pandas>=0.25->seaborn) (2023.3)\r\n",
      "Requirement already satisfied: six>=1.5 in /home/arneau/anaconda3/envs/pymc_env/lib/python3.11/site-packages (from python-dateutil>=2.7->matplotlib!=3.6.1,>=3.1->seaborn) (1.16.0)\r\n"
     ]
    }
   ],
   "source": [
    "! pip install seaborn numba"
   ]
  },
  {
   "cell_type": "code",
   "execution_count": null,
   "outputs": [],
   "source": [
    "!date\n",
    "\n",
    "import arviz as az\n",
    "import matplotlib.pyplot as plt\n",
    "import numpy as np\n",
    "import pandas as pd\n",
    "import pymc as pm\n",
    "import pytensor.tensor as pt\n",
    "import seaborn as sns\n",
    "\n",
    "from matplotlib.ticker import StrMethodFormatter\n",
    "\n",
    "%matplotlib inline"
   ],
   "metadata": {
    "collapsed": false
   }
  }
 ],
 "metadata": {
  "kernelspec": {
   "name": "myenv",
   "language": "python",
   "display_name": "pymc_env"
  },
  "language_info": {
   "codemirror_mode": {
    "name": "ipython",
    "version": 2
   },
   "file_extension": ".py",
   "mimetype": "text/x-python",
   "name": "python",
   "nbconvert_exporter": "python",
   "pygments_lexer": "ipython2",
   "version": "2.7.6"
  }
 },
 "nbformat": 4,
 "nbformat_minor": 0
}
